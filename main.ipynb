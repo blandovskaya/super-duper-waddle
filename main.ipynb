{
 "cells": [
  {
   "cell_type": "code",
   "execution_count": 16,
   "metadata": {
    "collapsed": false,
    "pycharm": {
     "name": "#%%\n"
    }
   },
   "outputs": [],
   "source": [
    "import pandas as pd\n",
    "import re"
   ]
  },
  {
   "cell_type": "code",
   "execution_count": 17,
   "metadata": {
    "collapsed": false,
    "pycharm": {
     "name": "#%%\n"
    }
   },
   "outputs": [],
   "source": [
    "res = pd.read_csv('parsed.csv')\n",
    "res['match'] = ''"
   ]
  },
  {
   "cell_type": "code",
   "execution_count": 18,
   "metadata": {
    "collapsed": false,
    "pycharm": {
     "name": "#%%\n"
    }
   },
   "outputs": [
    {
     "data": {
      "text/html": [
       "<div>\n",
       "<style scoped>\n",
       "    .dataframe tbody tr th:only-of-type {\n",
       "        vertical-align: middle;\n",
       "    }\n",
       "\n",
       "    .dataframe tbody tr th {\n",
       "        vertical-align: top;\n",
       "    }\n",
       "\n",
       "    .dataframe thead th {\n",
       "        text-align: right;\n",
       "    }\n",
       "</style>\n",
       "<table border=\"1\" class=\"dataframe\">\n",
       "  <thead>\n",
       "    <tr style=\"text-align: right;\">\n",
       "      <th></th>\n",
       "      <th>url</th>\n",
       "      <th>text</th>\n",
       "      <th>match</th>\n",
       "    </tr>\n",
       "  </thead>\n",
       "  <tbody>\n",
       "    <tr>\n",
       "      <th>0</th>\n",
       "      <td>https://prisoners.spring96.org/ru/person/iryna...</td>\n",
       "      <td>Ирина Михайловна Абдукерина — бывшая учительни...</td>\n",
       "      <td></td>\n",
       "    </tr>\n",
       "    <tr>\n",
       "      <th>1</th>\n",
       "      <td>https://prisoners.spring96.org/ru/person/aleh-...</td>\n",
       "      <td>Олег Габибуллаевич Абдуллаев был приговорен к ...</td>\n",
       "      <td></td>\n",
       "    </tr>\n",
       "    <tr>\n",
       "      <th>2</th>\n",
       "      <td>https://prisoners.spring96.org/ru/person/hanna...</td>\n",
       "      <td>Анна Алексеевна Аблаб — сотрудница Белорусской...</td>\n",
       "      <td></td>\n",
       "    </tr>\n",
       "    <tr>\n",
       "      <th>3</th>\n",
       "      <td>https://prisoners.spring96.org/ru/person/dzmit...</td>\n",
       "      <td>Дмитрий Михайлович Абрамук — фигурант брестско...</td>\n",
       "      <td></td>\n",
       "    </tr>\n",
       "    <tr>\n",
       "      <th>4</th>\n",
       "      <td>https://prisoners.spring96.org/ru/person/aljak...</td>\n",
       "      <td>Александр Николаевич Авдеюк — житель Быхова, о...</td>\n",
       "      <td></td>\n",
       "    </tr>\n",
       "  </tbody>\n",
       "</table>\n",
       "</div>"
      ],
      "text/plain": [
       "                                                 url  \\\n",
       "0  https://prisoners.spring96.org/ru/person/iryna...   \n",
       "1  https://prisoners.spring96.org/ru/person/aleh-...   \n",
       "2  https://prisoners.spring96.org/ru/person/hanna...   \n",
       "3  https://prisoners.spring96.org/ru/person/dzmit...   \n",
       "4  https://prisoners.spring96.org/ru/person/aljak...   \n",
       "\n",
       "                                                text match  \n",
       "0  Ирина Михайловна Абдукерина — бывшая учительни...        \n",
       "1  Олег Габибуллаевич Абдуллаев был приговорен к ...        \n",
       "2  Анна Алексеевна Аблаб — сотрудница Белорусской...        \n",
       "3  Дмитрий Михайлович Абрамук — фигурант брестско...        \n",
       "4  Александр Николаевич Авдеюк — житель Быхова, о...        "
      ]
     },
     "execution_count": 18,
     "metadata": {},
     "output_type": "execute_result"
    }
   ],
   "source": [
    "res.head()"
   ]
  },
  {
   "cell_type": "code",
   "execution_count": 27,
   "metadata": {
    "collapsed": false,
    "pycharm": {
     "name": "#%%\n"
    }
   },
   "outputs": [
    {
     "data": {
      "text/plain": [
       "'Ирина Михайловна Абдукерина — бывшая учительница из Хойников, которую задержали утром 5 апреля 2022 г. на даче. \\n10 апреля 2022 г. женщине предъявили обвинение сразу по двум статьям Уголовного кодекса: 361-1 (Участие в экстремистском формировании) и 361-4 (Содействие экстремистской деятельности).'"
      ]
     },
     "execution_count": 27,
     "metadata": {},
     "output_type": "execute_result"
    }
   ],
   "source": [
    "regex = r\"[^.]*\\s+\\d+\\s+(?:январ[ьея]|феврал[ьея]|март[еа]?|апрел[ьея]|ма[йея]|ию[нл][яье]|август[еа]?|(?:сент|окт|но|дек)[ая]бр[яье]|г\\.)[^.]*\\.\"\n",
    "\n",
    "res['match'] = res['text'].str.findall(regex, flags=re.IGNORECASE | re.MULTILINE).str.join(\" \").replace(to_replace='', value=' ')\n",
    "\n",
    "res.head()"
   ]
  },
  {
   "cell_type": "code",
   "execution_count": 25,
   "metadata": {},
   "outputs": [],
   "source": [
    "res.to_csv('out.csv')"
   ]
  }
 ],
 "metadata": {
  "kernelspec": {
   "display_name": "Python 3.10.6 64-bit",
   "language": "python",
   "name": "python3"
  },
  "language_info": {
   "codemirror_mode": {
    "name": "ipython",
    "version": 3
   },
   "file_extension": ".py",
   "mimetype": "text/x-python",
   "name": "python",
   "nbconvert_exporter": "python",
   "pygments_lexer": "ipython3",
   "version": "3.10.6"
  },
  "vscode": {
   "interpreter": {
    "hash": "aee8b7b246df8f9039afb4144a1f6fd8d2ca17a180786b69acc140d282b71a49"
   }
  }
 },
 "nbformat": 4,
 "nbformat_minor": 0
}
