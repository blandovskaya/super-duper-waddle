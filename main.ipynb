{
 "cells": [
  {
   "cell_type": "code",
   "execution_count": null,
   "outputs": [],
   "source": [
    "import pandas as pd\n",
    "import re"
   ],
   "metadata": {
    "collapsed": false,
    "pycharm": {
     "name": "#%%\n"
    }
   }
  },
  {
   "cell_type": "code",
   "execution_count": null,
   "outputs": [],
   "source": [
    "res = pd.read_csv('parsed.csv')\n",
    "res['match'] = ''"
   ],
   "metadata": {
    "collapsed": false,
    "pycharm": {
     "name": "#%%\n"
    }
   }
  },
  {
   "cell_type": "code",
   "execution_count": 39,
   "outputs": [
    {
     "data": {
      "text/plain": "                                                 url  \\\n0  https://prisoners.spring96.org/ru/person/iryna...   \n1  https://prisoners.spring96.org/ru/person/aleh-...   \n2  https://prisoners.spring96.org/ru/person/hanna...   \n3  https://prisoners.spring96.org/ru/person/dzmit...   \n4  https://prisoners.spring96.org/ru/person/aljak...   \n\n                                                text match  \n0  Ирина Михайловна Абдукерина — бывшая учительни...        \n1  Олег Габибуллаевич Абдуллаев был приговорен к ...        \n2  Анна Алексеевна Аблаб — сотрудница Белорусской...        \n3  Дмитрий Михайлович Абрамук — фигурант брестско...        \n4  Александр Николаевич Авдеюк — житель Быхова, о...        ",
      "text/html": "<div>\n<style scoped>\n    .dataframe tbody tr th:only-of-type {\n        vertical-align: middle;\n    }\n\n    .dataframe tbody tr th {\n        vertical-align: top;\n    }\n\n    .dataframe thead th {\n        text-align: right;\n    }\n</style>\n<table border=\"1\" class=\"dataframe\">\n  <thead>\n    <tr style=\"text-align: right;\">\n      <th></th>\n      <th>url</th>\n      <th>text</th>\n      <th>match</th>\n    </tr>\n  </thead>\n  <tbody>\n    <tr>\n      <th>0</th>\n      <td>https://prisoners.spring96.org/ru/person/iryna...</td>\n      <td>Ирина Михайловна Абдукерина — бывшая учительни...</td>\n      <td></td>\n    </tr>\n    <tr>\n      <th>1</th>\n      <td>https://prisoners.spring96.org/ru/person/aleh-...</td>\n      <td>Олег Габибуллаевич Абдуллаев был приговорен к ...</td>\n      <td></td>\n    </tr>\n    <tr>\n      <th>2</th>\n      <td>https://prisoners.spring96.org/ru/person/hanna...</td>\n      <td>Анна Алексеевна Аблаб — сотрудница Белорусской...</td>\n      <td></td>\n    </tr>\n    <tr>\n      <th>3</th>\n      <td>https://prisoners.spring96.org/ru/person/dzmit...</td>\n      <td>Дмитрий Михайлович Абрамук — фигурант брестско...</td>\n      <td></td>\n    </tr>\n    <tr>\n      <th>4</th>\n      <td>https://prisoners.spring96.org/ru/person/aljak...</td>\n      <td>Александр Николаевич Авдеюк — житель Быхова, о...</td>\n      <td></td>\n    </tr>\n  </tbody>\n</table>\n</div>"
     },
     "execution_count": 39,
     "metadata": {},
     "output_type": "execute_result"
    }
   ],
   "source": [
    "res.head()"
   ],
   "metadata": {
    "collapsed": false,
    "pycharm": {
     "name": "#%%\n"
    }
   }
  },
  {
   "cell_type": "code",
   "execution_count": 40,
   "outputs": [
    {
     "name": "stdout",
     "output_type": "stream",
     "text": [
      "Ирина Михайловна Абдукерина — бывшая учительница из Хойников, которую задержали утром 5 апреля 2022 г.\n",
      "\n",
      "10 апреля 2022 г.\n"
     ]
    }
   ],
   "source": [
    "regex = r\"[^.]*\\s+\\d+\\s+(январ[ьея]|феврал[ьея]|март[еа]?|апрел[ьея]|ма[йея]|ию[нл][яье]|август[еа]?|(?:сент|окт|но|дек)[ая]бр[яье])[^.]*\\.\"\n",
    "matches = re.finditer(regex, res['text'][0], re.MULTILINE)\n",
    "for match in matches:\n",
    "    print(match.group())"
   ],
   "metadata": {
    "collapsed": false,
    "pycharm": {
     "name": "#%%\n"
    }
   }
  },
  {
   "cell_type": "code",
   "execution_count": null,
   "outputs": [],
   "source": [],
   "metadata": {
    "collapsed": false,
    "pycharm": {
     "name": "#%%\n"
    }
   }
  }
 ],
 "metadata": {
  "kernelspec": {
   "display_name": "Python 3",
   "language": "python",
   "name": "python3"
  },
  "language_info": {
   "codemirror_mode": {
    "name": "ipython",
    "version": 2
   },
   "file_extension": ".py",
   "mimetype": "text/x-python",
   "name": "python",
   "nbconvert_exporter": "python",
   "pygments_lexer": "ipython2",
   "version": "2.7.6"
  }
 },
 "nbformat": 4,
 "nbformat_minor": 0
}